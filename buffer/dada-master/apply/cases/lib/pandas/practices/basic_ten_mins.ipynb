{
 "cells": [
  {
   "cell_type": "code",
   "execution_count": null,
   "metadata": {
    "collapsed": true
   },
   "outputs": [],
   "source": [
    "import pandas as pd"
   ]
  },
  {
   "cell_type": "code",
   "execution_count": 6,
   "metadata": {
    "collapsed": true
   },
   "outputs": [],
   "source": [
    " world = {'population': [14, 2, 2, 2, 1, 0.05, 1, 0.8], 'continent': ['Asia', 'Asia', 'North America', 'North America', 'Europe', 'Europe', 'Africa', 'Africa'], 'country': ['China', 'Korea', 'US', 'Canada', 'UK', 'Greek', 'Egypt', 'South Africa']}"
   ]
  },
  {
   "cell_type": "code",
   "execution_count": 7,
   "metadata": {},
   "outputs": [
    {
     "data": {
      "text/plain": [
       "{'continent': ['Asia',\n",
       "  'Asia',\n",
       "  'North America',\n",
       "  'North America',\n",
       "  'Europe',\n",
       "  'Europe',\n",
       "  'Africa',\n",
       "  'Africa'],\n",
       " 'country': ['China',\n",
       "  'Korea',\n",
       "  'US',\n",
       "  'Canada',\n",
       "  'UK',\n",
       "  'Greek',\n",
       "  'Egypt',\n",
       "  'South Africa'],\n",
       " 'population': [14, 2, 2, 2, 1, 0.05, 1, 0.8]}"
      ]
     },
     "execution_count": 7,
     "metadata": {},
     "output_type": "execute_result"
    }
   ],
   "source": [
    "world"
   ]
  },
  {
   "cell_type": "code",
   "execution_count": 8,
   "metadata": {
    "collapsed": true
   },
   "outputs": [],
   "source": [
    "pop, cou, con, res = world['population'],  world['country'],   world['continent'], {}"
   ]
  },
  {
   "cell_type": "code",
   "execution_count": 23,
   "metadata": {},
   "outputs": [
    {
     "name": "stdout",
     "output_type": "stream",
     "text": [
      "{'Asia': [['China'], 14, 0.875], 'North America': [['US', 'Canada'], 2, 0.5], 'Europe': [['UK'], 1, 0.9523809523809523], 'Africa': [['Egypt'], 1, 0.5555555555555556]}\n"
     ]
    }
   ],
   "source": [
    "pop, cou, con, res = world['population'],  world['country'],   world['continent'], {}\n",
    "for i in range(len(pop)):\n",
    "    if con[i] not in res:\n",
    "        res[con[i]] = [[cou[i]], pop[i], pop[i]]\n",
    "    elif res[con[i]][1] < pop[i]:\n",
    "        res[con[i]] = [[cou[i]], pop[i], res[con[i]][2] + pop[i]]\n",
    "    elif res[con[i]][1] == pop[i]:\n",
    "        res[con[i]][0].append(cou[i])\n",
    "        res[con[i]][2] += pop[i]\n",
    "    else:\n",
    "        res[con[i]][2] += pop[i]\n",
    "for k in res:\n",
    "    res[k][2] = res[k][1] / res[k][2]\n",
    "    \n",
    "print(res)"
   ]
  },
  {
   "cell_type": "code",
   "execution_count": null,
   "metadata": {
    "collapsed": true
   },
   "outputs": [],
   "source": []
  },
  {
   "cell_type": "code",
   "execution_count": null,
   "metadata": {
    "collapsed": true
   },
   "outputs": [],
   "source": []
  }
 ],
 "metadata": {
  "kernelspec": {
   "display_name": "Python 3",
   "language": "python",
   "name": "python3"
  },
  "language_info": {
   "codemirror_mode": {
    "name": "ipython",
    "version": 3
   },
   "file_extension": ".py",
   "mimetype": "text/x-python",
   "name": "python",
   "nbconvert_exporter": "python",
   "pygments_lexer": "ipython3",
   "version": "3.6.2"
  }
 },
 "nbformat": 4,
 "nbformat_minor": 1
}
