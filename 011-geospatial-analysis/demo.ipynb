{
 "cells": [
  {
   "cell_type": "code",
   "execution_count": 1,
   "metadata": {},
   "outputs": [],
   "source": [
    "import geopandas as gpd"
   ]
  },
  {
   "cell_type": "code",
   "execution_count": 2,
   "metadata": {},
   "outputs": [],
   "source": [
    "full_data = gpd.read_file(\"./input/geospatial-learn-course-data/DEC_lands/DEC_lands/DEC_lands.shp\")"
   ]
  },
  {
   "cell_type": "code",
   "execution_count": 3,
   "metadata": {},
   "outputs": [
    {
     "data": {
      "text/html": [
       "<div>\n",
       "<style scoped>\n",
       "    .dataframe tbody tr th:only-of-type {\n",
       "        vertical-align: middle;\n",
       "    }\n",
       "\n",
       "    .dataframe tbody tr th {\n",
       "        vertical-align: top;\n",
       "    }\n",
       "\n",
       "    .dataframe thead th {\n",
       "        text-align: right;\n",
       "    }\n",
       "</style>\n",
       "<table border=\"1\" class=\"dataframe\">\n",
       "  <thead>\n",
       "    <tr style=\"text-align: right;\">\n",
       "      <th></th>\n",
       "      <th>OBJECTID</th>\n",
       "      <th>CATEGORY</th>\n",
       "      <th>UNIT</th>\n",
       "      <th>FACILITY</th>\n",
       "      <th>CLASS</th>\n",
       "      <th>UMP</th>\n",
       "      <th>DESCRIPTIO</th>\n",
       "      <th>REGION</th>\n",
       "      <th>COUNTY</th>\n",
       "      <th>URL</th>\n",
       "      <th>SOURCE</th>\n",
       "      <th>UPDATE_</th>\n",
       "      <th>OFFICE</th>\n",
       "      <th>ACRES</th>\n",
       "      <th>LANDS_UID</th>\n",
       "      <th>GREENCERT</th>\n",
       "      <th>SHAPE_AREA</th>\n",
       "      <th>SHAPE_LEN</th>\n",
       "      <th>geometry</th>\n",
       "    </tr>\n",
       "  </thead>\n",
       "  <tbody>\n",
       "    <tr>\n",
       "      <td>0</td>\n",
       "      <td>1</td>\n",
       "      <td>FOR PRES DET PAR</td>\n",
       "      <td>CFP</td>\n",
       "      <td>HANCOCK FP DETACHED PARCEL</td>\n",
       "      <td>WILD FOREST</td>\n",
       "      <td>None</td>\n",
       "      <td>DELAWARE COUNTY DETACHED PARCEL</td>\n",
       "      <td>4</td>\n",
       "      <td>DELAWARE</td>\n",
       "      <td>http://www.dec.ny.gov/</td>\n",
       "      <td>DELAWARE RPP</td>\n",
       "      <td>5/12</td>\n",
       "      <td>STAMFORD</td>\n",
       "      <td>738.620192</td>\n",
       "      <td>103</td>\n",
       "      <td>N</td>\n",
       "      <td>2.990365e+06</td>\n",
       "      <td>7927.662385</td>\n",
       "      <td>POLYGON ((486093.245 4635308.586, 486787.235 4...</td>\n",
       "    </tr>\n",
       "    <tr>\n",
       "      <td>1</td>\n",
       "      <td>2</td>\n",
       "      <td>FOR PRES DET PAR</td>\n",
       "      <td>CFP</td>\n",
       "      <td>HANCOCK FP DETACHED PARCEL</td>\n",
       "      <td>WILD FOREST</td>\n",
       "      <td>None</td>\n",
       "      <td>DELAWARE COUNTY DETACHED PARCEL</td>\n",
       "      <td>4</td>\n",
       "      <td>DELAWARE</td>\n",
       "      <td>http://www.dec.ny.gov/</td>\n",
       "      <td>DELAWARE RPP</td>\n",
       "      <td>5/12</td>\n",
       "      <td>STAMFORD</td>\n",
       "      <td>282.553140</td>\n",
       "      <td>1218</td>\n",
       "      <td>N</td>\n",
       "      <td>1.143940e+06</td>\n",
       "      <td>4776.375600</td>\n",
       "      <td>POLYGON ((491931.514 4637416.256, 491305.424 4...</td>\n",
       "    </tr>\n",
       "    <tr>\n",
       "      <td>2</td>\n",
       "      <td>3</td>\n",
       "      <td>FOR PRES DET PAR</td>\n",
       "      <td>CFP</td>\n",
       "      <td>HANCOCK FP DETACHED PARCEL</td>\n",
       "      <td>WILD FOREST</td>\n",
       "      <td>None</td>\n",
       "      <td>DELAWARE COUNTY DETACHED PARCEL</td>\n",
       "      <td>4</td>\n",
       "      <td>DELAWARE</td>\n",
       "      <td>http://www.dec.ny.gov/</td>\n",
       "      <td>DELAWARE RPP</td>\n",
       "      <td>5/12</td>\n",
       "      <td>STAMFORD</td>\n",
       "      <td>234.291262</td>\n",
       "      <td>1780</td>\n",
       "      <td>N</td>\n",
       "      <td>9.485476e+05</td>\n",
       "      <td>5783.070364</td>\n",
       "      <td>POLYGON ((486000.287 4635834.453, 485007.550 4...</td>\n",
       "    </tr>\n",
       "    <tr>\n",
       "      <td>3</td>\n",
       "      <td>4</td>\n",
       "      <td>FOR PRES DET PAR</td>\n",
       "      <td>CFP</td>\n",
       "      <td>GREENE COUNTY FP DETACHED PARCEL</td>\n",
       "      <td>WILD FOREST</td>\n",
       "      <td>None</td>\n",
       "      <td>None</td>\n",
       "      <td>4</td>\n",
       "      <td>GREENE</td>\n",
       "      <td>http://www.dec.ny.gov/</td>\n",
       "      <td>GREENE RPP</td>\n",
       "      <td>5/12</td>\n",
       "      <td>STAMFORD</td>\n",
       "      <td>450.106464</td>\n",
       "      <td>2060</td>\n",
       "      <td>N</td>\n",
       "      <td>1.822293e+06</td>\n",
       "      <td>7021.644833</td>\n",
       "      <td>POLYGON ((541716.775 4675243.268, 541217.579 4...</td>\n",
       "    </tr>\n",
       "    <tr>\n",
       "      <td>4</td>\n",
       "      <td>6</td>\n",
       "      <td>FOREST PRESERVE</td>\n",
       "      <td>AFP</td>\n",
       "      <td>SARANAC LAKES WILD FOREST</td>\n",
       "      <td>WILD FOREST</td>\n",
       "      <td>SARANAC LAKES</td>\n",
       "      <td>None</td>\n",
       "      <td>5</td>\n",
       "      <td>ESSEX</td>\n",
       "      <td>http://www.dec.ny.gov/lands/22593.html</td>\n",
       "      <td>DECRP, ESSEX RPP</td>\n",
       "      <td>12/96</td>\n",
       "      <td>RAY BROOK</td>\n",
       "      <td>69.702387</td>\n",
       "      <td>1517</td>\n",
       "      <td>N</td>\n",
       "      <td>2.821959e+05</td>\n",
       "      <td>2663.909932</td>\n",
       "      <td>POLYGON ((583896.043 4909643.187, 583891.200 4...</td>\n",
       "    </tr>\n",
       "  </tbody>\n",
       "</table>\n",
       "</div>"
      ],
      "text/plain": [
       "   OBJECTID          CATEGORY UNIT                          FACILITY  \\\n",
       "0         1  FOR PRES DET PAR  CFP        HANCOCK FP DETACHED PARCEL   \n",
       "1         2  FOR PRES DET PAR  CFP        HANCOCK FP DETACHED PARCEL   \n",
       "2         3  FOR PRES DET PAR  CFP        HANCOCK FP DETACHED PARCEL   \n",
       "3         4  FOR PRES DET PAR  CFP  GREENE COUNTY FP DETACHED PARCEL   \n",
       "4         6   FOREST PRESERVE  AFP         SARANAC LAKES WILD FOREST   \n",
       "\n",
       "         CLASS            UMP                       DESCRIPTIO  REGION  \\\n",
       "0  WILD FOREST           None  DELAWARE COUNTY DETACHED PARCEL       4   \n",
       "1  WILD FOREST           None  DELAWARE COUNTY DETACHED PARCEL       4   \n",
       "2  WILD FOREST           None  DELAWARE COUNTY DETACHED PARCEL       4   \n",
       "3  WILD FOREST           None                             None       4   \n",
       "4  WILD FOREST  SARANAC LAKES                             None       5   \n",
       "\n",
       "     COUNTY                                     URL            SOURCE UPDATE_  \\\n",
       "0  DELAWARE                  http://www.dec.ny.gov/      DELAWARE RPP    5/12   \n",
       "1  DELAWARE                  http://www.dec.ny.gov/      DELAWARE RPP    5/12   \n",
       "2  DELAWARE                  http://www.dec.ny.gov/      DELAWARE RPP    5/12   \n",
       "3    GREENE                  http://www.dec.ny.gov/        GREENE RPP    5/12   \n",
       "4     ESSEX  http://www.dec.ny.gov/lands/22593.html  DECRP, ESSEX RPP   12/96   \n",
       "\n",
       "      OFFICE       ACRES  LANDS_UID GREENCERT    SHAPE_AREA    SHAPE_LEN  \\\n",
       "0   STAMFORD  738.620192        103         N  2.990365e+06  7927.662385   \n",
       "1   STAMFORD  282.553140       1218         N  1.143940e+06  4776.375600   \n",
       "2   STAMFORD  234.291262       1780         N  9.485476e+05  5783.070364   \n",
       "3   STAMFORD  450.106464       2060         N  1.822293e+06  7021.644833   \n",
       "4  RAY BROOK   69.702387       1517         N  2.821959e+05  2663.909932   \n",
       "\n",
       "                                            geometry  \n",
       "0  POLYGON ((486093.245 4635308.586, 486787.235 4...  \n",
       "1  POLYGON ((491931.514 4637416.256, 491305.424 4...  \n",
       "2  POLYGON ((486000.287 4635834.453, 485007.550 4...  \n",
       "3  POLYGON ((541716.775 4675243.268, 541217.579 4...  \n",
       "4  POLYGON ((583896.043 4909643.187, 583891.200 4...  "
      ]
     },
     "execution_count": 3,
     "metadata": {},
     "output_type": "execute_result"
    }
   ],
   "source": [
    "full_data.head()"
   ]
  },
  {
   "cell_type": "code",
   "execution_count": 4,
   "metadata": {},
   "outputs": [],
   "source": [
    "import pandas as pd"
   ]
  },
  {
   "cell_type": "code",
   "execution_count": 5,
   "metadata": {},
   "outputs": [
    {
     "data": {
      "text/plain": [
       "True"
      ]
     },
     "execution_count": 5,
     "metadata": {},
     "output_type": "execute_result"
    }
   ],
   "source": [
    "isinstance(full_data, pd.DataFrame)"
   ]
  },
  {
   "cell_type": "code",
   "execution_count": 6,
   "metadata": {},
   "outputs": [],
   "source": [
    "hd = full_data.head()"
   ]
  },
  {
   "cell_type": "code",
   "execution_count": 7,
   "metadata": {},
   "outputs": [
    {
     "data": {
      "text/plain": [
       "geopandas.geodataframe.GeoDataFrame"
      ]
     },
     "execution_count": 7,
     "metadata": {},
     "output_type": "execute_result"
    }
   ],
   "source": [
    "type(full_data)"
   ]
  },
  {
   "cell_type": "code",
   "execution_count": 8,
   "metadata": {},
   "outputs": [],
   "source": [
    "wild_lands = full_data.loc[:, [\"CLASS\", \"COUNTY\", \"geometry\"]].copy()"
   ]
  },
  {
   "cell_type": "code",
   "execution_count": 9,
   "metadata": {},
   "outputs": [
    {
     "data": {
      "text/html": [
       "<div>\n",
       "<style scoped>\n",
       "    .dataframe tbody tr th:only-of-type {\n",
       "        vertical-align: middle;\n",
       "    }\n",
       "\n",
       "    .dataframe tbody tr th {\n",
       "        vertical-align: top;\n",
       "    }\n",
       "\n",
       "    .dataframe thead th {\n",
       "        text-align: right;\n",
       "    }\n",
       "</style>\n",
       "<table border=\"1\" class=\"dataframe\">\n",
       "  <thead>\n",
       "    <tr style=\"text-align: right;\">\n",
       "      <th></th>\n",
       "      <th>CLASS</th>\n",
       "      <th>COUNTY</th>\n",
       "      <th>geometry</th>\n",
       "    </tr>\n",
       "  </thead>\n",
       "  <tbody>\n",
       "    <tr>\n",
       "      <td>0</td>\n",
       "      <td>WILD FOREST</td>\n",
       "      <td>DELAWARE</td>\n",
       "      <td>POLYGON ((486093.245 4635308.586, 486787.235 4...</td>\n",
       "    </tr>\n",
       "    <tr>\n",
       "      <td>1</td>\n",
       "      <td>WILD FOREST</td>\n",
       "      <td>DELAWARE</td>\n",
       "      <td>POLYGON ((491931.514 4637416.256, 491305.424 4...</td>\n",
       "    </tr>\n",
       "    <tr>\n",
       "      <td>2</td>\n",
       "      <td>WILD FOREST</td>\n",
       "      <td>DELAWARE</td>\n",
       "      <td>POLYGON ((486000.287 4635834.453, 485007.550 4...</td>\n",
       "    </tr>\n",
       "    <tr>\n",
       "      <td>3</td>\n",
       "      <td>WILD FOREST</td>\n",
       "      <td>GREENE</td>\n",
       "      <td>POLYGON ((541716.775 4675243.268, 541217.579 4...</td>\n",
       "    </tr>\n",
       "    <tr>\n",
       "      <td>4</td>\n",
       "      <td>WILD FOREST</td>\n",
       "      <td>ESSEX</td>\n",
       "      <td>POLYGON ((583896.043 4909643.187, 583891.200 4...</td>\n",
       "    </tr>\n",
       "  </tbody>\n",
       "</table>\n",
       "</div>"
      ],
      "text/plain": [
       "         CLASS    COUNTY                                           geometry\n",
       "0  WILD FOREST  DELAWARE  POLYGON ((486093.245 4635308.586, 486787.235 4...\n",
       "1  WILD FOREST  DELAWARE  POLYGON ((491931.514 4637416.256, 491305.424 4...\n",
       "2  WILD FOREST  DELAWARE  POLYGON ((486000.287 4635834.453, 485007.550 4...\n",
       "3  WILD FOREST    GREENE  POLYGON ((541716.775 4675243.268, 541217.579 4...\n",
       "4  WILD FOREST     ESSEX  POLYGON ((583896.043 4909643.187, 583891.200 4..."
      ]
     },
     "execution_count": 9,
     "metadata": {},
     "output_type": "execute_result"
    }
   ],
   "source": [
    "wild_lands.head()"
   ]
  },
  {
   "cell_type": "code",
   "execution_count": 10,
   "metadata": {},
   "outputs": [
    {
     "data": {
      "text/plain": [
       "WILD FOREST                   965\n",
       "INTENSIVE USE                 108\n",
       "PRIMITIVE                      60\n",
       "WILDERNESS                     52\n",
       "ADMINISTRATIVE                 17\n",
       "UNCLASSIFIED                    7\n",
       "HISTORIC                        5\n",
       "PRIMITIVE BICYCLE CORRIDOR      4\n",
       "CANOE AREA                      1\n",
       "Name: CLASS, dtype: int64"
      ]
     },
     "execution_count": 10,
     "metadata": {},
     "output_type": "execute_result"
    }
   ],
   "source": [
    "wild_lands.CLASS.value_counts()"
   ]
  },
  {
   "cell_type": "code",
   "execution_count": 24,
   "metadata": {},
   "outputs": [
    {
     "data": {
      "text/plain": [
       "<matplotlib.axes._subplots.AxesSubplot at 0x11947af10>"
      ]
     },
     "execution_count": 24,
     "metadata": {},
     "output_type": "execute_result"
    },
    {
     "data": {
      "image/png": "[encoded data removed]",
      "text/plain": [
       "<Figure size 432x288 with 1 Axes>"
      ]
     },
     "metadata": {
      "needs_background": "light"
     },
     "output_type": "display_data"
    }
   ],
   "source": [
    "wild_lands.plot()"
   ]
  },
  {
   "cell_type": "code",
   "execution_count": 17,
   "metadata": {},
   "outputs": [
    {
     "data": {
      "text/plain": [
       "Index(['OBJECTID', 'CATEGORY', 'UNIT', 'FACILITY', 'CLASS', 'UMP',\n",
       "       'DESCRIPTIO', 'REGION', 'COUNTY', 'URL', 'SOURCE', 'UPDATE_', 'OFFICE',\n",
       "       'ACRES', 'LANDS_UID', 'GREENCERT', 'SHAPE_AREA', 'SHAPE_LEN',\n",
       "       'geometry'],\n",
       "      dtype='object')"
      ]
     },
     "execution_count": 17,
     "metadata": {},
     "output_type": "execute_result"
    }
   ],
   "source": [
    "full_data.columns"
   ]
  },
  {
   "cell_type": "code",
   "execution_count": 20,
   "metadata": {},
   "outputs": [
    {
     "data": {
      "text/plain": [
       "OBJECTID                                                      1\n",
       "CATEGORY                                       FOR PRES DET PAR\n",
       "UNIT                                                        CFP\n",
       "FACILITY                             HANCOCK FP DETACHED PARCEL\n",
       "CLASS                                               WILD FOREST\n",
       "UMP                                                        None\n",
       "DESCRIPTIO                      DELAWARE COUNTY DETACHED PARCEL\n",
       "REGION                                                        4\n",
       "COUNTY                                                 DELAWARE\n",
       "URL                                      http://www.dec.ny.gov/\n",
       "SOURCE                                             DELAWARE RPP\n",
       "UPDATE_                                                    5/12\n",
       "OFFICE                                                 STAMFORD\n",
       "ACRES                                                    738.62\n",
       "LANDS_UID                                                   103\n",
       "GREENCERT                                                     N\n",
       "SHAPE_AREA                                          2.99037e+06\n",
       "SHAPE_LEN                                               7927.66\n",
       "geometry      POLYGON ((486093.2445 4635308.5855, 486787.235...\n",
       "Name: 0, dtype: object"
      ]
     },
     "execution_count": 20,
     "metadata": {},
     "output_type": "execute_result"
    }
   ],
   "source": [
    "full_data.iloc[0, :]"
   ]
  },
  {
   "cell_type": "code",
   "execution_count": 23,
   "metadata": {},
   "outputs": [
    {
     "data": {
      "text/html": [
       "<div>\n",
       "<style scoped>\n",
       "    .dataframe tbody tr th:only-of-type {\n",
       "        vertical-align: middle;\n",
       "    }\n",
       "\n",
       "    .dataframe tbody tr th {\n",
       "        vertical-align: top;\n",
       "    }\n",
       "\n",
       "    .dataframe thead th {\n",
       "        text-align: right;\n",
       "    }\n",
       "</style>\n",
       "<table border=\"1\" class=\"dataframe\">\n",
       "  <thead>\n",
       "    <tr style=\"text-align: right;\">\n",
       "      <th></th>\n",
       "      <th>OBJECTID</th>\n",
       "      <th>REGION</th>\n",
       "      <th>ACRES</th>\n",
       "      <th>LANDS_UID</th>\n",
       "      <th>SHAPE_AREA</th>\n",
       "      <th>SHAPE_LEN</th>\n",
       "    </tr>\n",
       "  </thead>\n",
       "  <tbody>\n",
       "    <tr>\n",
       "      <td>count</td>\n",
       "      <td>2983.000000</td>\n",
       "      <td>2983.000000</td>\n",
       "      <td>2983.000000</td>\n",
       "      <td>2983.000000</td>\n",
       "      <td>2.983000e+03</td>\n",
       "      <td>2983.000000</td>\n",
       "    </tr>\n",
       "    <tr>\n",
       "      <td>mean</td>\n",
       "      <td>1802.352330</td>\n",
       "      <td>5.143815</td>\n",
       "      <td>1339.732709</td>\n",
       "      <td>2089.354006</td>\n",
       "      <td>5.424019e+06</td>\n",
       "      <td>9081.648057</td>\n",
       "    </tr>\n",
       "    <tr>\n",
       "      <td>std</td>\n",
       "      <td>1577.280669</td>\n",
       "      <td>1.928753</td>\n",
       "      <td>9057.752502</td>\n",
       "      <td>1378.927232</td>\n",
       "      <td>3.667106e+07</td>\n",
       "      <td>23334.595215</td>\n",
       "    </tr>\n",
       "    <tr>\n",
       "      <td>min</td>\n",
       "      <td>1.000000</td>\n",
       "      <td>1.000000</td>\n",
       "      <td>0.002199</td>\n",
       "      <td>0.000000</td>\n",
       "      <td>8.901263e+00</td>\n",
       "      <td>11.165475</td>\n",
       "    </tr>\n",
       "    <tr>\n",
       "      <td>25%</td>\n",
       "      <td>815.500000</td>\n",
       "      <td>4.000000</td>\n",
       "      <td>3.940500</td>\n",
       "      <td>955.500000</td>\n",
       "      <td>1.595344e+04</td>\n",
       "      <td>681.702216</td>\n",
       "    </tr>\n",
       "    <tr>\n",
       "      <td>50%</td>\n",
       "      <td>1586.000000</td>\n",
       "      <td>5.000000</td>\n",
       "      <td>53.151273</td>\n",
       "      <td>1890.000000</td>\n",
       "      <td>2.151873e+05</td>\n",
       "      <td>2547.098389</td>\n",
       "    </tr>\n",
       "    <tr>\n",
       "      <td>75%</td>\n",
       "      <td>2388.000000</td>\n",
       "      <td>6.000000</td>\n",
       "      <td>524.856806</td>\n",
       "      <td>2827.500000</td>\n",
       "      <td>2.124926e+06</td>\n",
       "      <td>9067.118587</td>\n",
       "    </tr>\n",
       "    <tr>\n",
       "      <td>max</td>\n",
       "      <td>9957.000000</td>\n",
       "      <td>9.000000</td>\n",
       "      <td>274863.012528</td>\n",
       "      <td>4742.000000</td>\n",
       "      <td>1.112806e+09</td>\n",
       "      <td>419521.821277</td>\n",
       "    </tr>\n",
       "  </tbody>\n",
       "</table>\n",
       "</div>"
      ],
      "text/plain": [
       "          OBJECTID       REGION          ACRES    LANDS_UID    SHAPE_AREA  \\\n",
       "count  2983.000000  2983.000000    2983.000000  2983.000000  2.983000e+03   \n",
       "mean   1802.352330     5.143815    1339.732709  2089.354006  5.424019e+06   \n",
       "std    1577.280669     1.928753    9057.752502  1378.927232  3.667106e+07   \n",
       "min       1.000000     1.000000       0.002199     0.000000  8.901263e+00   \n",
       "25%     815.500000     4.000000       3.940500   955.500000  1.595344e+04   \n",
       "50%    1586.000000     5.000000      53.151273  1890.000000  2.151873e+05   \n",
       "75%    2388.000000     6.000000     524.856806  2827.500000  2.124926e+06   \n",
       "max    9957.000000     9.000000  274863.012528  4742.000000  1.112806e+09   \n",
       "\n",
       "           SHAPE_LEN  \n",
       "count    2983.000000  \n",
       "mean     9081.648057  \n",
       "std     23334.595215  \n",
       "min        11.165475  \n",
       "25%       681.702216  \n",
       "50%      2547.098389  \n",
       "75%      9067.118587  \n",
       "max    419521.821277  "
      ]
     },
     "execution_count": 23,
     "metadata": {},
     "output_type": "execute_result"
    }
   ],
   "source": [
    "full_data.describe()"
   ]
  },
  {
   "cell_type": "code",
   "execution_count": null,
   "metadata": {},
   "outputs": [],
   "source": []
  }
 ],
 "metadata": {
  "kernelspec": {
   "display_name": "Python 3",
   "language": "python",
   "name": "python3"
  },
  "language_info": {
   "codemirror_mode": {
    "name": "ipython",
    "version": 3
   },
   "file_extension": ".py",
   "mimetype": "text/x-python",
   "name": "python",
   "nbconvert_exporter": "python",
   "pygments_lexer": "ipython3",
   "version": "3.7.4"
  }
 },
 "nbformat": 4,
 "nbformat_minor": 2
}
